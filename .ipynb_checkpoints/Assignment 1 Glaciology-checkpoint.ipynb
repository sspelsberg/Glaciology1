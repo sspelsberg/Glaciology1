{
 "cells": [
  {
   "cell_type": "markdown",
   "id": "e69c9906",
   "metadata": {},
   "source": [
    "# Assignment 1 – Glacier Mass Balance Model\n",
    "\n",
    "Let's go!"
   ]
  },
  {
   "cell_type": "code",
   "execution_count": 1,
   "id": "2bf22107",
   "metadata": {},
   "outputs": [],
   "source": [
    "import numpy as np\n",
    "import matplotlib.pyplot as plt\n",
    "import pandas as pd\n",
    "from datetime import datetime"
   ]
  },
  {
   "cell_type": "markdown",
   "id": "2c164660",
   "metadata": {},
   "source": [
    "## Nr 1 – calculate the mass balance 1980-2009"
   ]
  },
  {
   "cell_type": "code",
   "execution_count": null,
   "id": "d5df82b7",
   "metadata": {},
   "outputs": [],
   "source": []
  },
  {
   "cell_type": "markdown",
   "id": "3f289ebc",
   "metadata": {},
   "source": [
    "## Nr 2 - choose and read in climate data\n",
    "\n",
    "Possible stations: \n",
    " - Jungfraujoch (3571 MSL)\n",
    " - Grimsel Hospiz (1980 MSL)\n",
    " - how high is Fieschergletscher?\n",
    " \n",
    "Norm value charts for Precipitation:\n",
    " - Precip 61-90, precip 91-20 and sunshine 91-20\n",
    " - Yellow left Jungfraujoch, yellow right Grimsel, orange ~ location of Fieschergletscher\n",
    " - Glacier in the area with highest precipitation of switzerland, Jungfraujoch gets much less (even though its in the same glaciated area), Grimsel might be better?\n",
    " - both stations in data_raw folder\n",
    " - URL for data: https://www.meteoswiss.admin.ch/services-and-publications/applications/ext/climate-tables-homogenized.html \n",
    " - URL if you want to look at more norm value maps: https://www.meteoswiss.admin.ch/services-and-publications/applications/ext/climate-norm-maps-public.html\n",
    " \n",
    "<div>\n",
    "<img src=\"maps/precip_61-90.png\" width=\"700\" align=\"left\"/>\n",
    "<img src=\"maps/precip_91-20.png\" width=\"400\" align=\"left\"/>\n",
    "<img src=\"maps/sunshine_91-20.png\" width=\"400\" align=\"left\"/>\n",
    "</div>\n",
    " \n",
    " "
   ]
  },
  {
   "cell_type": "markdown",
   "id": "b83f659d",
   "metadata": {},
   "source": [
    "**Question 2 [5 pts]: Which data did you chose and why?**\n",
    "*Make sure to state the url from which you downloaded the data, and to discuss the choice of\n",
    "the station that you selected.*\n",
    "\n",
    "We used homogeneous monthly temperature and precipitation data from MeteoSwiss (which can be found here: https://www.meteoswiss.admin.ch/services-and-publications/applications/ext/climate-tables-homogenized.html), as MeteoSwiss provides the official long-time station records for Switzerland. For Fieschergletscher, there are two stations which are close enough to be considered: Jungfraujoch (JUN) at 3571 MSL and Grimsel Hospiz (GRH) at 1980 MSL. Both stations go back further than 1935 (JUN 1933 and GRH 1932). ...\n"
   ]
  },
  {
   "cell_type": "code",
   "execution_count": null,
   "id": "1842d36b",
   "metadata": {},
   "outputs": [],
   "source": [
    "\n"
   ]
  }
 ],
 "metadata": {
  "kernelspec": {
   "display_name": "Python 3 (ipykernel)",
   "language": "python",
   "name": "python3"
  },
  "language_info": {
   "codemirror_mode": {
    "name": "ipython",
    "version": 3
   },
   "file_extension": ".py",
   "mimetype": "text/x-python",
   "name": "python",
   "nbconvert_exporter": "python",
   "pygments_lexer": "ipython3",
   "version": "3.10.8"
  }
 },
 "nbformat": 4,
 "nbformat_minor": 5
}
