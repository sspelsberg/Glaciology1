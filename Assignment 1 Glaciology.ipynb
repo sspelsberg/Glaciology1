{
 "cells": [
  {
   "cell_type": "markdown",
   "id": "d08e82d8",
   "metadata": {},
   "source": [
    "# Assignment 1 – Glacier Mass Balance Model\n",
    "\n",
    "Let's go!"
   ]
  },
  {
   "cell_type": "code",
   "execution_count": 1,
   "id": "865e0625",
   "metadata": {},
   "outputs": [],
   "source": [
    "import numpy as np\n",
    "import matplotlib.pyplot as plt\n",
    "import pandas as pd\n",
    "from datetime import datetime"
   ]
  },
  {
   "cell_type": "markdown",
   "id": "52573b08",
   "metadata": {},
   "source": [
    "# Nr 1 – calculate the mass balance 1980-2009"
   ]
  },
  {
   "cell_type": "code",
   "execution_count": null,
   "id": "ffdf5ec1",
   "metadata": {},
   "outputs": [],
   "source": []
  },
  {
   "cell_type": "code",
   "execution_count": null,
   "id": "4b253cb5",
   "metadata": {},
   "outputs": [],
   "source": []
  },
  {
   "cell_type": "markdown",
   "id": "38d14f34",
   "metadata": {},
   "source": [
    "**Question 1 [6 pts]: How large was the specific mass change rate experienced by the glacier\n",
    "during the period?**\n",
    "\n",
    "*Express your result in units of ”m water equivalent per year” (m w.e. a−1), and make sure to\n",
    "explain what assumptions you did for computing this number.\n",
    "Hint: For converting from kg to mw.e. you can consider the average glacier surface for the two\n",
    "given years.*\n",
    "\n",
    "\n",
    "\n"
   ]
  },
  {
   "cell_type": "markdown",
   "id": "0b5a7067",
   "metadata": {},
   "source": [
    "# Nr 2 - choose and read in climate data\n",
    "\n",
    "Station: \n",
    " - Grimsel Hospiz (1980 MSL)\n",
    " - how high is Fieschergletscher?\n",
    " \n",
    "Norm value charts for Precipitation:\n",
    " - Precip 61-90, precip 91-20 and sunshine 91-20\n",
    " - Yellow left Jungfraujoch, yellow right Grimsel, orange ~ location of Fieschergletscher\n",
    " - Glacier in the area with highest precipitation of switzerland, not entirely represented by either of the stations\n",
    " - Grimsel in data_raw folder\n",
    " - URL for data: https://www.meteoswiss.admin.ch/services-and-publications/applications/ext/climate-tables-homogenized.html \n",
    " - URL if you want to look at more norm value maps: https://www.meteoswiss.admin.ch/services-and-publications/applications/ext/climate-norm-maps-public.html\n",
    " \n",
    "<div>\n",
    "<img src=\"maps/precip_61-90.png\" width=\"700\" align=\"left\"/>\n",
    "<img src=\"maps/precip_91-20.png\" width=\"400\" align=\"left\"/>\n",
    "<img src=\"maps/sunshine_91-20.png\" width=\"400\" align=\"left\"/>\n",
    "</div>\n",
    " \n",
    " "
   ]
  },
  {
   "cell_type": "markdown",
   "id": "c13486ce",
   "metadata": {},
   "source": [
    "**Question 2 [5 pts]: Which data did you chose and why?**\n",
    "*Make sure to state the url from which you downloaded the data, and to discuss the choice of\n",
    "the station that you selected.*\n",
    "\n",
    "We used homogeneous monthly temperature and precipitation data from MeteoSwiss (which can be found here: https://www.meteoswiss.admin.ch/services-and-publications/applications/ext/climate-tables-homogenized.html), as MeteoSwiss provides the official long-time station records for Switzerland. \n",
    "\n",
    "For Fieschergletscher, we considered the three closest stations: Jungfraujoch at 3571 MSL, Grimsel Hospiz (GRH) at 1980 MSL and Meiringen at 589 MSL. All stations go back further than 1935. However, only Grimsel Hospiz and Meiringen combine temperature and precipitation data, while Jungfraujoch provides only temperature. Therefore, the record would have to be combined with precipitation data from another station – which would lead to new uncertainties, taking into account elevation differences and how much precipitation varies even at small spatial scales.\n",
    "\n",
    "Of the two remaining stations, we chose Grimsel Hospiz. The station is substantially closer to the glacier than Meiringen and unlike Meiringen at a similar elevation level as the Fieschergletscher. Moreover, it is the only station in the area with a similar yearly amount of precipitation as the glacier."
   ]
  },
  {
   "cell_type": "code",
   "execution_count": 21,
   "id": "420f111e",
   "metadata": {},
   "outputs": [
    {
     "data": {
      "text/html": [
       "<div>\n",
       "<style scoped>\n",
       "    .dataframe tbody tr th:only-of-type {\n",
       "        vertical-align: middle;\n",
       "    }\n",
       "\n",
       "    .dataframe tbody tr th {\n",
       "        vertical-align: top;\n",
       "    }\n",
       "\n",
       "    .dataframe thead th {\n",
       "        text-align: right;\n",
       "    }\n",
       "</style>\n",
       "<table border=\"1\" class=\"dataframe\">\n",
       "  <thead>\n",
       "    <tr style=\"text-align: right;\">\n",
       "      <th></th>\n",
       "      <th>Year</th>\n",
       "      <th>Month</th>\n",
       "      <th>Temperature</th>\n",
       "      <th>Precipitation</th>\n",
       "    </tr>\n",
       "  </thead>\n",
       "  <tbody>\n",
       "    <tr>\n",
       "      <th>0</th>\n",
       "      <td>1932</td>\n",
       "      <td>1</td>\n",
       "      <td>-2.8</td>\n",
       "      <td>216.8</td>\n",
       "    </tr>\n",
       "    <tr>\n",
       "      <th>1</th>\n",
       "      <td>1932</td>\n",
       "      <td>2</td>\n",
       "      <td>-9.0</td>\n",
       "      <td>24.6</td>\n",
       "    </tr>\n",
       "    <tr>\n",
       "      <th>2</th>\n",
       "      <td>1932</td>\n",
       "      <td>3</td>\n",
       "      <td>-5.2</td>\n",
       "      <td>169.0</td>\n",
       "    </tr>\n",
       "    <tr>\n",
       "      <th>3</th>\n",
       "      <td>1932</td>\n",
       "      <td>4</td>\n",
       "      <td>-3.2</td>\n",
       "      <td>137.0</td>\n",
       "    </tr>\n",
       "    <tr>\n",
       "      <th>4</th>\n",
       "      <td>1932</td>\n",
       "      <td>5</td>\n",
       "      <td>2.0</td>\n",
       "      <td>164.7</td>\n",
       "    </tr>\n",
       "    <tr>\n",
       "      <th>...</th>\n",
       "      <td>...</td>\n",
       "      <td>...</td>\n",
       "      <td>...</td>\n",
       "      <td>...</td>\n",
       "    </tr>\n",
       "    <tr>\n",
       "      <th>1096</th>\n",
       "      <td>2023</td>\n",
       "      <td>5</td>\n",
       "      <td>5.0</td>\n",
       "      <td>128.4</td>\n",
       "    </tr>\n",
       "    <tr>\n",
       "      <th>1097</th>\n",
       "      <td>2023</td>\n",
       "      <td>6</td>\n",
       "      <td>10.7</td>\n",
       "      <td>72.1</td>\n",
       "    </tr>\n",
       "    <tr>\n",
       "      <th>1098</th>\n",
       "      <td>2023</td>\n",
       "      <td>7</td>\n",
       "      <td>11.6</td>\n",
       "      <td>102.1</td>\n",
       "    </tr>\n",
       "    <tr>\n",
       "      <th>1099</th>\n",
       "      <td>2023</td>\n",
       "      <td>8</td>\n",
       "      <td>11.3</td>\n",
       "      <td>196.7</td>\n",
       "    </tr>\n",
       "    <tr>\n",
       "      <th>1100</th>\n",
       "      <td>2023</td>\n",
       "      <td>9</td>\n",
       "      <td>11.2</td>\n",
       "      <td>65.1</td>\n",
       "    </tr>\n",
       "  </tbody>\n",
       "</table>\n",
       "<p>1101 rows × 4 columns</p>\n",
       "</div>"
      ],
      "text/plain": [
       "      Year  Month  Temperature  Precipitation\n",
       "0     1932      1         -2.8          216.8\n",
       "1     1932      2         -9.0           24.6\n",
       "2     1932      3         -5.2          169.0\n",
       "3     1932      4         -3.2          137.0\n",
       "4     1932      5          2.0          164.7\n",
       "...    ...    ...          ...            ...\n",
       "1096  2023      5          5.0          128.4\n",
       "1097  2023      6         10.7           72.1\n",
       "1098  2023      7         11.6          102.1\n",
       "1099  2023      8         11.3          196.7\n",
       "1100  2023      9         11.2           65.1\n",
       "\n",
       "[1101 rows x 4 columns]"
      ]
     },
     "execution_count": 21,
     "metadata": {},
     "output_type": "execute_result"
    }
   ],
   "source": [
    "GRH = pd.read_csv(\"data_raw/climate_GRH_data.txt\", sep='\\s+')\n",
    "\n",
    "GRH"
   ]
  },
  {
   "cell_type": "markdown",
   "id": "9332cff0",
   "metadata": {},
   "source": [
    "# Nr 3 – Calibrate a TI model\n",
    "\n",
    "Use the meteorological time series retrieved in Question 2 to calibrate the Degree Day Factor\n",
    "(DDF) of a simple temperature index model. For this task, you can make the following assumptions:\n",
    "\n",
    "- Precipitation can be modelled with a ”block rain model” (see lecture notes) and the time series retrieved in Question 2.\n",
    "- Snow and rain can be distinguished through a threshold temperature of T0 = 2 ◦C.\n",
    "- The temperature at any elevation can be computed from the data retrieved in Task 2 and by using a temperature lapse rate of dT/dz = 6.5 ◦Ckm−1.\n",
    "- Melt occurs for temperatures above 0 ◦C.\n",
    "- Every month has 365/12 ≈ 30.42 days.\n",
    "- The provided DEMs both refer to October.\n",
    "- The glacier surface can be described with the DEM of 2009 and does not change in time.\n",
    "\n",
    "TI-Model Review: https://www.sciencedirect.com/science/article/abs/pii/S0022169403002579?via%3Dihub "
   ]
  },
  {
   "cell_type": "code",
   "execution_count": null,
   "id": "b45b6ace",
   "metadata": {},
   "outputs": [],
   "source": []
  },
  {
   "cell_type": "code",
   "execution_count": null,
   "id": "49f9ad49",
   "metadata": {},
   "outputs": [],
   "source": []
  },
  {
   "cell_type": "markdown",
   "id": "6c0ffbc6",
   "metadata": {},
   "source": [
    "**Question 3.1 [7 pts]: What was your procedure to calibrate the DDF?**\n",
    "*Make sure to provide a step by step explanation and to mention any assumption.*\n",
    "\n",
    "- concerning Hint 3: while TI models work robust at big scales (e.g. entire catchment), they miss local effects and varying melt rates that can be caused by different exposure to radiation/differences in debris cover of different parts of the glacier"
   ]
  },
  {
   "cell_type": "markdown",
   "id": "66d64c16",
   "metadata": {},
   "source": [
    "**Question 3.2 [6 pts]: What value (and unit) do you obtain for the calibrated DDF, and how\n",
    "does it compare to values reported in the literature?**\n",
    "*Make sure to have ”days” somewhere in the units for the ”Degree Day Factor”, and compare\n",
    "your result against at least two published DDF values (provide the corresponding references).\n",
    "Discuss what might be at the origin of the differences that you find (if any).*\n",
    "\n",
    "- Value from assignment sheet: DDF = 5 mmw.e. (◦Cd)−1."
   ]
  },
  {
   "cell_type": "markdown",
   "id": "cb045649",
   "metadata": {},
   "source": [
    "**Question 3.3 [6 pts]: Reflect upon the various assumptions that were necessary for the calibration.**\n",
    "*Which assumptions are likely to introduce a bias? In what direction do the individual\n",
    "biases go, and which assumption are likely to introduce the largest biases?*\n",
    "\n",
    "- if Nov-Apr main accumulation season and May-Sep main ablation season (what about October?): \n",
    "-> Summer is one day longer than model calculation, winter one day shorter. \n"
   ]
  },
  {
   "cell_type": "markdown",
   "id": "197bdbd9",
   "metadata": {},
   "source": [
    "- **Hint 1:** What you want is to choose a DDF such that the model reproduces the total glacier mass change that you determined in Question 1.\n",
    "- **Hint 2:** You can perform your computations at monthly resolution.\n",
    "- **Hint 3:** Reflect whether you want to consider a distributed modelling approach (i.e. if you want to consider every grid-cell of the glacier separately) or not (e.g. if you only want to consider the mean glacier elevation, for example). Make sure to discuss this point in Question 3.1."
   ]
  },
  {
   "cell_type": "markdown",
   "id": "76e3723d",
   "metadata": {},
   "source": [
    "# Nr 4 – Mass balance reconstruction\n",
    "\n",
    "Use the model calibrated in Task 3 and the same meteorological time series as above to reconstruct\n",
    "the annual mass balance of the glacier for the period 1935-2022. Express the results in\n",
    "mw.e. a−1, and refer the annual values to the hydrological year (1 Oct. – 30 Sep.). Plot your\n",
    "results."
   ]
  },
  {
   "cell_type": "code",
   "execution_count": null,
   "id": "2e571258",
   "metadata": {},
   "outputs": [],
   "source": []
  },
  {
   "cell_type": "code",
   "execution_count": null,
   "id": "604fcfa0",
   "metadata": {},
   "outputs": [],
   "source": []
  },
  {
   "cell_type": "markdown",
   "id": "dd5c4b74",
   "metadata": {},
   "source": [
    "**Question 4 [7 pts]: What are the (i) cumulative and (ii) average glacier mass balance (in\n",
    "mw.e. and mw.e. a−1, respectively) and what do you observe in the yearly time series?**\n",
    "*Check whether you can discern trends, and whether there are periods or individual years that\n",
    "stand out. For this task, you can neglect any changes in glacier geometry.*"
   ]
  },
  {
   "cell_type": "markdown",
   "id": "2a3f333c",
   "metadata": {},
   "source": [
    "# Nr 5 – Future projection\n",
    "Use volume-area scaling to estimate the volume of the glacier for the year 2009. Then use the\n",
    "mass balance time series that you computed in Task 4 for computing the mass change until 2022.\n",
    "For the future, assume that the glacier mass balance rate (in mw.e. a−1) will remain the same\n",
    "as it was on average over the past 30 years (period 1992-2022)."
   ]
  },
  {
   "cell_type": "code",
   "execution_count": null,
   "id": "4af2953d",
   "metadata": {},
   "outputs": [],
   "source": []
  },
  {
   "cell_type": "code",
   "execution_count": null,
   "id": "95602d42",
   "metadata": {},
   "outputs": [],
   "source": []
  },
  {
   "cell_type": "markdown",
   "id": "6aa5410d",
   "metadata": {},
   "source": [
    "**Question 5.1 [4 pts]: What was the glacier volume in 2009?**\n",
    "*Express you results in km3.*"
   ]
  },
  {
   "cell_type": "markdown",
   "id": "02a576fa",
   "metadata": {},
   "source": [
    "**Question 5.2 [6 pts]: Based on your projection, when (year) will the glacier have lost 50% of\n",
    "the volume it had in 2009?**\n",
    "*Use ”Hint 1” below, and discuss whether the resulting ”projection” is likely to be an under- or\n",
    "overestimate, and why.*"
   ]
  },
  {
   "cell_type": "markdown",
   "id": "3afc05fe",
   "metadata": {},
   "source": [
    "**Question 5.3 [4 pts]: Can you think of a strategy that avoids the simplification given in\n",
    "”Hint 1”?**\n",
    "*Explain how you could avoid the assumption of a constant area, and what additional information,\n",
    "tools, or methods (if any) you would need for that.*"
   ]
  },
  {
   "cell_type": "markdown",
   "id": "7aea7dec",
   "metadata": {},
   "source": [
    "- Hint 1: As a simplification, you can assume that the glacier area remains constant at the 2009 level.\n",
    "- Hint 2: If you did not solve Task 4, you can use the time series in the file sample massbalance time series.txt.\n",
    "- Hint 3: Pay attention to the units for the glacier mass balance rate and the glacier volume.\n",
    "- Hint 4: If you need to convert glacier volume to mass, assume a mean glacier density of 900 kgm−3."
   ]
  },
  {
   "cell_type": "code",
   "execution_count": null,
   "id": "08b2ccdb",
   "metadata": {},
   "outputs": [],
   "source": []
  }
 ],
 "metadata": {
  "kernelspec": {
   "display_name": "Python 3 (ipykernel)",
   "language": "python",
   "name": "python3"
  },
  "language_info": {
   "codemirror_mode": {
    "name": "ipython",
    "version": 3
   },
   "file_extension": ".py",
   "mimetype": "text/x-python",
   "name": "python",
   "nbconvert_exporter": "python",
   "pygments_lexer": "ipython3",
   "version": "3.10.8"
  }
 },
 "nbformat": 4,
 "nbformat_minor": 5
}
