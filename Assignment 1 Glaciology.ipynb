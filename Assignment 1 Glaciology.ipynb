{
 "cells": [
  {
   "cell_type": "markdown",
   "id": "7929e5b3",
   "metadata": {},
   "source": [
    "# Assignment 1 – Glacier Mass Balance Model\n",
    "\n",
    "Let's go!"
   ]
  },
  {
   "cell_type": "code",
   "execution_count": 1,
   "id": "29e9cfa0",
   "metadata": {},
   "outputs": [],
   "source": [
    "import numpy as np\n",
    "import matplotlib.pyplot as plt\n",
    "import pandas as pd"
   ]
  },
  {
   "cell_type": "markdown",
   "id": "836c153e",
   "metadata": {},
   "source": [
    "## Nr 1 – calculate the mass balance 1980-2009"
   ]
  },
  {
   "cell_type": "code",
   "execution_count": null,
   "id": "8dfdffda",
   "metadata": {},
   "outputs": [],
   "source": []
  },
  {
   "cell_type": "markdown",
   "id": "eb10292f",
   "metadata": {},
   "source": [
    "## Nr 2 - choose and read in climate data\n",
    "\n",
    "Possible stations: \n",
    " - Jungfraujoch (3571 MSL)\n",
    " - Grimsel Hospiz (1980 MSL)\n",
    " - how high is Fieschergletscher?\n",
    " \n",
    "Norm value charts for Precipitation:\n",
    " - Precip 61-90, precip 91-20 and sunshine 91-20\n",
    " - Yellow left Jungfraujoch, yellow right Grimsel, orange ~ location of Fieschergletscher\n",
    " - Glacier in the area with highest precipitation of switzerland, Jungfraujoch gets much less (even though its in the same glaciated area), Grimsel might be better?\n",
    " - both stations in data_raw folder\n",
    " - URL for data: https://www.meteoswiss.admin.ch/services-and-publications/applications/ext/climate-tables-homogenized.html \n",
    " - URL if you want to look at \n",
    " \n",
    "<div>\n",
    "<img src=\"maps/precip_61-90.png\" width=\"700\" align=\"left\"/>\n",
    "<img src=\"maps/precip_91-20.png\" width=\"400\" align=\"left\"/>\n",
    "<img src=\"maps/sunshine_91-20.png\" width=\"400\" align=\"left\"/>\n",
    "</div>\n",
    " \n",
    " "
   ]
  },
  {
   "cell_type": "code",
   "execution_count": null,
   "id": "f5227375",
   "metadata": {},
   "outputs": [],
   "source": []
  },
  {
   "cell_type": "code",
   "execution_count": null,
   "id": "4787d39d",
   "metadata": {},
   "outputs": [],
   "source": []
  }
 ],
 "metadata": {
  "kernelspec": {
   "display_name": "Python 3 (ipykernel)",
   "language": "python",
   "name": "python3"
  },
  "language_info": {
   "codemirror_mode": {
    "name": "ipython",
    "version": 3
   },
   "file_extension": ".py",
   "mimetype": "text/x-python",
   "name": "python",
   "nbconvert_exporter": "python",
   "pygments_lexer": "ipython3",
   "version": "3.10.8"
  }
 },
 "nbformat": 4,
 "nbformat_minor": 5
}
